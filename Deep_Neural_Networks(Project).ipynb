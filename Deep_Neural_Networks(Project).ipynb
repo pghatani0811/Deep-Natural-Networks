{
  "cells": [
    {
      "cell_type": "markdown",
      "metadata": {
        "id": "view-in-github",
        "colab_type": "text"
      },
      "source": [
        "<a href=\"https://colab.research.google.com/github/pghatani0811/Deep-Natural-Networks/blob/main/Deep_Neural_Networks(Project).ipynb\" target=\"_parent\"><img src=\"https://colab.research.google.com/assets/colab-badge.svg\" alt=\"Open In Colab\"/></a>"
      ]
    },
    {
      "cell_type": "code",
      "execution_count": 1,
      "metadata": {
        "id": "H2eTc_xCGB7M"
      },
      "outputs": [],
      "source": [
        "import numpy as np\n",
        "import pandas as pd\n",
        "import matplotlib.pyplot as plt\n",
        "import seaborn"
      ]
    },
    {
      "cell_type": "code",
      "execution_count": 2,
      "metadata": {
        "colab": {
          "base_uri": "https://localhost:8080/"
        },
        "id": "9jgokHTDGwCW",
        "outputId": "864f9216-afa0-4f1b-d163-96f050a58eee"
      },
      "outputs": [
        {
          "output_type": "stream",
          "name": "stdout",
          "text": [
            "Downloading data from https://storage.googleapis.com/tensorflow/tf-keras-datasets/mnist.npz\n",
            "11493376/11490434 [==============================] - 0s 0us/step\n",
            "11501568/11490434 [==============================] - 0s 0us/step\n",
            "Train: X = (60000, 28, 28), y = (60000,)\n",
            "Test: X = (10000, 28, 28), y = (10000,)\n"
          ]
        }
      ],
      "source": [
        "from keras.datasets import mnist \n",
        "\n",
        "(trainsetX, trainsety),(testsetX,testsety) = mnist.load_data()\n",
        "\n",
        "print('Train: X = {}, y = {}'.format(trainsetX.shape, trainsety.shape)) \n",
        "print('Test: X = {}, y = {}'.format(testsetX.shape, testsety.shape))"
      ]
    },
    {
      "cell_type": "code",
      "execution_count": 3,
      "metadata": {
        "colab": {
          "base_uri": "https://localhost:8080/",
          "height": 282
        },
        "id": "RASs90zlH5zB",
        "outputId": "2ca5b48e-abda-4e80-816d-edf7339a405f"
      },
      "outputs": [
        {
          "output_type": "execute_result",
          "data": {
            "text/plain": [
              "<matplotlib.image.AxesImage at 0x7f1f4cee5dd0>"
            ]
          },
          "metadata": {},
          "execution_count": 3
        },
        {
          "output_type": "display_data",
          "data": {
            "text/plain": [
              "<Figure size 432x288 with 1 Axes>"
            ],
            "image/png": "[encoded data removed]"
          },
          "metadata": {
            "needs_background": "light"
          }
        }
      ],
      "source": [
        "plt.imshow(trainsetX[90])"
      ]
    },
    {
      "cell_type": "code",
      "execution_count": 4,
      "metadata": {
        "colab": {
          "base_uri": "https://localhost:8080/"
        },
        "id": "Rp_InWTbIXAG",
        "outputId": "26c00c87-e4f1-4793-8f4d-a216c71e5b2d"
      },
      "outputs": [
        {
          "output_type": "stream",
          "name": "stdout",
          "text": [
            "[[  0   0   0   0   0   0   0   0   0   0   0   0   0   0   0   0   0   0\n",
            "    0   0   0   0   0   0   0   0   0   0]\n",
            " [  0   0   0   0   0   0   0   0   0   0   0   0   0   0   0   0   0   0\n",
            "    0   0   0   0   0   0   0   0   0   0]\n",
            " [  0   0   0   0   0   0   0   0   0   0   0   0   0   0   0   0   0  25\n",
            "  214 225  90   0   0   0   0   0   0   0]\n",
            " [  0   0   0   0   0   0   0   0   0   0   0   0   0   0   0   7 145 212\n",
            "  253 253  60   0   0   0   0   0   0   0]\n",
            " [  0   0   0   0   0   0   0   0   0   0   0   0   0   0   0 106 253 253\n",
            "  246 188  23   0   0   0   0   0   0   0]\n",
            " [  0   0   0   0   0   0   0   0   0   0   0   0   0  45 164 254 253 223\n",
            "  108   0   0   0   0   0   0   0   0   0]\n",
            " [  0   0   0   0   0   0   0   0   0   0   0   0  24 236 253 252 124  28\n",
            "    0   0   0   0   0   0   0   0   0   0]\n",
            " [  0   0   0   0   0   0   0   0   0   0   0 100 217 253 218 116   0   0\n",
            "    0   0   0   0   0   0   0   0   0   0]\n",
            " [  0   0   0   0   0   0   0   0   0   0 158 175 225 253  92   0   0   0\n",
            "    0   0   0   0   0   0   0   0   0   0]\n",
            " [  0   0   0   0   0   0   0   0   0  24 217 241 248 114   2   0   0   0\n",
            "    0   0   0   0   0   0   0   0   0   0]\n",
            " [  0   0   0   0   0   0   0   0  21 201 253 253 114   3   0   0   0   0\n",
            "    0   0   0   0   0   0   0   0   0   0]\n",
            " [  0   0   0   0   0   0   0   0 107 253 253 213  19   0   0   0   0   0\n",
            "    0   0   0   0   0   0   0   0   0   0]\n",
            " [  0   0   0   0   0   0   0   0 170 254 254 169   0   0   0   0   0   2\n",
            "   13 100 133  89   0   0   0   0   0   0]\n",
            " [  0   0   0   0   0   0   0  18 210 253 253 100   0   0   0  19  76 116\n",
            "  253 253 253 176   4   0   0   0   0   0]\n",
            " [  0   0   0   0   0   0   0  41 222 253 208  18   0   0  93 209 232 217\n",
            "  224 253 253 241  31   0   0   0   0   0]\n",
            " [  0   0   0   0   0   0   0 157 253 253 229  32   0 154 250 246  36   0\n",
            "   49 253 253 168   0   0   0   0   0   0]\n",
            " [  0   0   0   0   0   0   0 128 253 253 253 195 125 247 166  69   0   0\n",
            "   37 236 253 168   0   0   0   0   0   0]\n",
            " [  0   0   0   0   0   0   0  37 253 253 253 253 253 135  32   0   7 130\n",
            "   73 202 253 133   0   0   0   0   0   0]\n",
            " [  0   0   0   0   0   0   0   7 185 253 253 253 253  64   0  10 210 253\n",
            "  253 253 153   9   0   0   0   0   0   0]\n",
            " [  0   0   0   0   0   0   0   0  66 253 253 253 253 238 218 221 253 253\n",
            "  235 156  37   0   0   0   0   0   0   0]\n",
            " [  0   0   0   0   0   0   0   0   5 111 228 253 253 253 253 254 253 168\n",
            "   19   0   0   0   0   0   0   0   0   0]\n",
            " [  0   0   0   0   0   0   0   0   0   0   9 110 178 253 253 249  63   5\n",
            "    0   0   0   0   0   0   0   0   0   0]\n",
            " [  0   0   0   0   0   0   0   0   0   0   0   0   0   0   0   0   0   0\n",
            "    0   0   0   0   0   0   0   0   0   0]\n",
            " [  0   0   0   0   0   0   0   0   0   0   0   0   0   0   0   0   0   0\n",
            "    0   0   0   0   0   0   0   0   0   0]\n",
            " [  0   0   0   0   0   0   0   0   0   0   0   0   0   0   0   0   0   0\n",
            "    0   0   0   0   0   0   0   0   0   0]\n",
            " [  0   0   0   0   0   0   0   0   0   0   0   0   0   0   0   0   0   0\n",
            "    0   0   0   0   0   0   0   0   0   0]\n",
            " [  0   0   0   0   0   0   0   0   0   0   0   0   0   0   0   0   0   0\n",
            "    0   0   0   0   0   0   0   0   0   0]\n",
            " [  0   0   0   0   0   0   0   0   0   0   0   0   0   0   0   0   0   0\n",
            "    0   0   0   0   0   0   0   0   0   0]]\n"
          ]
        }
      ],
      "source": [
        "print(trainsetX[90])"
      ]
    },
    {
      "cell_type": "code",
      "execution_count": 5,
      "metadata": {
        "colab": {
          "base_uri": "https://localhost:8080/"
        },
        "id": "T-NmYisKIpU1",
        "outputId": "38b3c3d6-d415-4365-a665-6fc2c8312ca9"
      },
      "outputs": [
        {
          "output_type": "stream",
          "name": "stdout",
          "text": [
            "6\n"
          ]
        }
      ],
      "source": [
        "print(trainsety[90])"
      ]
    },
    {
      "cell_type": "code",
      "execution_count": 6,
      "metadata": {
        "id": "oZTAzmmyI1Om"
      },
      "outputs": [],
      "source": [
        "import tensorflow as tf"
      ]
    },
    {
      "cell_type": "code",
      "execution_count": 7,
      "metadata": {
        "colab": {
          "base_uri": "https://localhost:8080/",
          "height": 282
        },
        "id": "pAElzDZaJpXh",
        "outputId": "a9f768c9-0575-4c0b-d517-67bd43a6df51"
      },
      "outputs": [
        {
          "output_type": "execute_result",
          "data": {
            "text/plain": [
              "<matplotlib.image.AxesImage at 0x7f1f4c60fbd0>"
            ]
          },
          "metadata": {},
          "execution_count": 7
        },
        {
          "output_type": "display_data",
          "data": {
            "text/plain": [
              "<Figure size 432x288 with 1 Axes>"
            ],
            "image/png": "[encoded data removed]"
          },
          "metadata": {
            "needs_background": "light"
          }
        }
      ],
      "source": [
        "x_train=tf.keras.utils.normalize(trainsetX,axis=1)\n",
        "x_test=tf.keras.utils.normalize(testsetX,axis=1)\n",
        "plt.imshow(x_train[90])\n"
      ]
    },
    {
      "cell_type": "code",
      "execution_count": 8,
      "metadata": {
        "colab": {
          "base_uri": "https://localhost:8080/"
        },
        "id": "MjYW1puaJ1fs",
        "outputId": "7d343941-bfe1-45a8-da8b-62941fbda80e"
      },
      "outputs": [
        {
          "output_type": "stream",
          "name": "stdout",
          "text": [
            "[[0.         0.         0.         0.         0.         0.\n",
            "  0.         0.         0.         0.         0.         0.\n",
            "  0.         0.         0.         0.         0.         0.\n",
            "  0.         0.         0.         0.         0.         0.\n",
            "  0.         0.         0.         0.        ]\n",
            " [0.         0.         0.         0.         0.         0.\n",
            "  0.         0.         0.         0.         0.         0.\n",
            "  0.         0.         0.         0.         0.         0.\n",
            "  0.         0.         0.         0.         0.         0.\n",
            "  0.         0.         0.         0.        ]\n",
            " [0.         0.         0.         0.         0.         0.\n",
            "  0.         0.         0.         0.         0.         0.\n",
            "  0.         0.         0.         0.         0.         0.03983807\n",
            "  0.32824827 0.30708319 0.14702016 0.         0.         0.\n",
            "  0.         0.         0.         0.        ]\n",
            " [0.         0.         0.         0.         0.         0.\n",
            "  0.         0.         0.         0.         0.         0.\n",
            "  0.         0.         0.         0.01058255 0.22885043 0.33782684\n",
            "  0.38806922 0.34529798 0.09801344 0.         0.         0.\n",
            "  0.         0.         0.         0.        ]\n",
            " [0.         0.         0.         0.         0.         0.\n",
            "  0.         0.         0.         0.         0.         0.\n",
            "  0.         0.         0.         0.16024998 0.39930454 0.40316127\n",
            "  0.37733213 0.25658506 0.03757182 0.         0.         0.\n",
            "  0.         0.         0.         0.        ]\n",
            " [0.         0.         0.         0.         0.         0.\n",
            "  0.         0.         0.         0.         0.         0.\n",
            "  0.         0.06425608 0.25240688 0.38399523 0.39930454 0.35535559\n",
            "  0.16565801 0.         0.         0.         0.         0.\n",
            "  0.         0.         0.         0.        ]\n",
            " [0.         0.         0.         0.         0.         0.\n",
            "  0.         0.         0.         0.         0.         0.\n",
            "  0.03476815 0.33698747 0.38938379 0.38097164 0.19570657 0.04461864\n",
            "  0.         0.         0.         0.         0.         0.\n",
            "  0.         0.         0.         0.        ]\n",
            " [0.         0.         0.         0.         0.         0.\n",
            "  0.         0.         0.         0.         0.         0.13433363\n",
            "  0.31436204 0.36126199 0.33551647 0.1753679  0.         0.\n",
            "  0.         0.         0.         0.         0.         0.\n",
            "  0.         0.         0.         0.        ]\n",
            " [0.         0.         0.         0.         0.         0.\n",
            "  0.         0.         0.         0.         0.18462152 0.23508386\n",
            "  0.32595143 0.36126199 0.1415941  0.         0.         0.\n",
            "  0.         0.         0.         0.         0.         0.\n",
            "  0.         0.         0.         0.        ]\n",
            " [0.         0.         0.         0.         0.         0.\n",
            "  0.         0.         0.         0.03023989 0.25356247 0.32374406\n",
            "  0.35927091 0.16278208 0.00307813 0.         0.         0.\n",
            "  0.         0.         0.         0.         0.         0.\n",
            "  0.         0.         0.         0.        ]\n",
            " [0.         0.         0.         0.         0.         0.\n",
            "  0.         0.         0.03476864 0.25325911 0.29562813 0.33986409\n",
            "  0.16514872 0.00428374 0.         0.         0.         0.\n",
            "  0.         0.         0.         0.         0.         0.\n",
            "  0.         0.         0.         0.        ]\n",
            " [0.         0.         0.         0.         0.         0.\n",
            "  0.         0.         0.1771545  0.31877888 0.29562813 0.28613064\n",
            "  0.02752479 0.         0.         0.         0.         0.\n",
            "  0.         0.         0.         0.         0.         0.\n",
            "  0.         0.         0.         0.        ]\n",
            " [0.         0.         0.         0.         0.         0.\n",
            "  0.         0.         0.28146043 0.32003888 0.29679662 0.22702384\n",
            "  0.         0.         0.         0.         0.         0.00318705\n",
            "  0.01994032 0.13648142 0.21726313 0.21510138 0.         0.\n",
            "  0.         0.         0.         0.        ]\n",
            " [0.         0.         0.         0.         0.         0.\n",
            "  0.         0.0853704  0.34768641 0.31877888 0.29562813 0.13433363\n",
            "  0.         0.         0.         0.02872405 0.11994919 0.18484865\n",
            "  0.38806922 0.34529798 0.41329002 0.42536902 0.12797134 0.\n",
            "  0.         0.         0.         0.        ]\n",
            " [0.         0.         0.         0.         0.         0.\n",
            "  0.         0.1944548  0.3675542  0.31877888 0.24304605 0.02418005\n",
            "  0.         0.         0.14313317 0.31596458 0.36616069 0.34579445\n",
            "  0.34358698 0.34529798 0.41329002 0.58246554 0.99177787 0.\n",
            "  0.         0.         0.         0.        ]\n",
            " [0.         0.         0.         0.         0.         0.\n",
            "  0.         0.74461959 0.41887934 0.31877888 0.26758436 0.04298676\n",
            "  0.         0.2198986  0.38476659 0.37190089 0.05681804 0.\n",
            "  0.07515965 0.34529798 0.41329002 0.40603407 0.         0.\n",
            "  0.         0.         0.         0.        ]\n",
            " [0.         0.         0.         0.         0.         0.\n",
            "  0.         0.6070784  0.41887934 0.31877888 0.29562813 0.26195059\n",
            "  0.18108413 0.35269451 0.25548502 0.10431366 0.         0.\n",
            "  0.05675321 0.32209614 0.41329002 0.40603407 0.         0.\n",
            "  0.         0.         0.         0.        ]\n",
            " [0.         0.         0.         0.         0.         0.\n",
            "  0.         0.1754836  0.41887934 0.31877888 0.29562813 0.33986409\n",
            "  0.36651427 0.19276825 0.04925012 0.         0.01104795 0.20715797\n",
            "  0.11197254 0.27569246 0.41329002 0.32144364 0.         0.\n",
            "  0.         0.         0.         0.        ]\n",
            " [0.         0.         0.         0.         0.         0.\n",
            "  0.         0.0331996  0.30629517 0.31877888 0.29562813 0.33986409\n",
            "  0.36651427 0.09138643 0.         0.01511792 0.33143855 0.40316127\n",
            "  0.38806922 0.34529798 0.24993428 0.02175183 0.         0.\n",
            "  0.         0.         0.         0.        ]\n",
            " [0.         0.         0.         0.         0.         0.\n",
            "  0.         0.         0.10927287 0.31877888 0.29562813 0.33986409\n",
            "  0.36651427 0.33984329 0.33551647 0.33410608 0.39930454 0.40316127\n",
            "  0.36045955 0.21291101 0.06044162 0.         0.         0.\n",
            "  0.         0.         0.         0.        ]\n",
            " [0.         0.         0.         0.         0.         0.\n",
            "  0.         0.         0.00827825 0.13985951 0.26641587 0.33986409\n",
            "  0.36651427 0.36126199 0.38938379 0.38399523 0.39930454 0.26771183\n",
            "  0.02914354 0.         0.         0.         0.         0.\n",
            "  0.         0.         0.         0.        ]\n",
            " [0.         0.         0.         0.         0.         0.\n",
            "  0.         0.         0.         0.         0.01051642 0.147767\n",
            "  0.2578638  0.36126199 0.38938379 0.37643627 0.09943157 0.00796761\n",
            "  0.         0.         0.         0.         0.         0.\n",
            "  0.         0.         0.         0.        ]\n",
            " [0.         0.         0.         0.         0.         0.\n",
            "  0.         0.         0.         0.         0.         0.\n",
            "  0.         0.         0.         0.         0.         0.\n",
            "  0.         0.         0.         0.         0.         0.\n",
            "  0.         0.         0.         0.        ]\n",
            " [0.         0.         0.         0.         0.         0.\n",
            "  0.         0.         0.         0.         0.         0.\n",
            "  0.         0.         0.         0.         0.         0.\n",
            "  0.         0.         0.         0.         0.         0.\n",
            "  0.         0.         0.         0.        ]\n",
            " [0.         0.         0.         0.         0.         0.\n",
            "  0.         0.         0.         0.         0.         0.\n",
            "  0.         0.         0.         0.         0.         0.\n",
            "  0.         0.         0.         0.         0.         0.\n",
            "  0.         0.         0.         0.        ]\n",
            " [0.         0.         0.         0.         0.         0.\n",
            "  0.         0.         0.         0.         0.         0.\n",
            "  0.         0.         0.         0.         0.         0.\n",
            "  0.         0.         0.         0.         0.         0.\n",
            "  0.         0.         0.         0.        ]\n",
            " [0.         0.         0.         0.         0.         0.\n",
            "  0.         0.         0.         0.         0.         0.\n",
            "  0.         0.         0.         0.         0.         0.\n",
            "  0.         0.         0.         0.         0.         0.\n",
            "  0.         0.         0.         0.        ]\n",
            " [0.         0.         0.         0.         0.         0.\n",
            "  0.         0.         0.         0.         0.         0.\n",
            "  0.         0.         0.         0.         0.         0.\n",
            "  0.         0.         0.         0.         0.         0.\n",
            "  0.         0.         0.         0.        ]]\n"
          ]
        }
      ],
      "source": [
        "print(x_train[90])"
      ]
    },
    {
      "cell_type": "code",
      "execution_count": 9,
      "metadata": {
        "colab": {
          "base_uri": "https://localhost:8080/"
        },
        "id": "eOCtuddfKSVm",
        "outputId": "cc1971c6-8dab-40a4-eb06-5153cad14293"
      },
      "outputs": [
        {
          "output_type": "stream",
          "name": "stdout",
          "text": [
            "(60000, 28, 28, 1)\n",
            "(10000, 28, 28, 1)\n"
          ]
        }
      ],
      "source": [
        "IMG_SIZE=28\n",
        "x_trainr=np.array(x_train).reshape(-1,IMG_SIZE,IMG_SIZE,1)\n",
        "x_testr=np.array(x_test).reshape(-1,IMG_SIZE,IMG_SIZE,1)\n",
        "print(x_trainr.shape)\n",
        "print(x_testr.shape)\n"
      ]
    },
    {
      "cell_type": "code",
      "execution_count": 10,
      "metadata": {
        "id": "_2JMlA2hKhxY"
      },
      "outputs": [],
      "source": [
        "from tensorflow.keras.models import Sequential\n",
        "from tensorflow.keras.layers import Dense, Activation,Flatten,Conv2D,MaxPooling2D\n"
      ]
    },
    {
      "cell_type": "code",
      "execution_count": 11,
      "metadata": {
        "id": "TBgZITEmKxPy"
      },
      "outputs": [],
      "source": [
        "model =Sequential()\n",
        "model.add(Conv2D(64,(3,3),input_shape= x_trainr.shape[1:]))\n",
        "model.add(Activation(\"relu\"))\n",
        "model.add(MaxPooling2D(pool_size=(2,2)))\n"
      ]
    },
    {
      "cell_type": "code",
      "execution_count": 12,
      "metadata": {
        "id": "IfFAhb4WK_5W"
      },
      "outputs": [],
      "source": [
        "model =Sequential()\n",
        "model.add(Conv2D(64,(3,3),input_shape= x_trainr.shape[1:]))\n",
        "model.add(Activation(\"relu\"))\n",
        "model.add(MaxPooling2D(pool_size=(2,2)))"
      ]
    },
    {
      "cell_type": "code",
      "execution_count": 13,
      "metadata": {
        "id": "WyNwd8-RLHGb"
      },
      "outputs": [],
      "source": [
        "model =Sequential()\n",
        "model.add(Conv2D(64,(3,3),input_shape= x_trainr.shape[1:]))\n",
        "model.add(Activation(\"relu\"))\n",
        "model.add(MaxPooling2D(pool_size=(2,2)))"
      ]
    },
    {
      "cell_type": "code",
      "execution_count": 14,
      "metadata": {
        "id": "pK3ZHEoULMz4"
      },
      "outputs": [],
      "source": [
        "model.add(Flatten())\n",
        "model.add(Dense(64))\n",
        "model.add(Activation(\"relu\"))\n"
      ]
    },
    {
      "cell_type": "code",
      "execution_count": 15,
      "metadata": {
        "id": "c7x4Op1fLU1k"
      },
      "outputs": [],
      "source": [
        "model.add(Dense(32))\n",
        "model.add(Activation(\"relu\"))\n"
      ]
    },
    {
      "cell_type": "code",
      "execution_count": 16,
      "metadata": {
        "id": "WS1-vpi0LZlQ"
      },
      "outputs": [],
      "source": [
        "model.add(Dense(10))\n",
        "model.add(Activation(\"sigmoid\"))\n"
      ]
    },
    {
      "cell_type": "code",
      "execution_count": 17,
      "metadata": {
        "colab": {
          "base_uri": "https://localhost:8080/"
        },
        "id": "_yXoH9lRLiIA",
        "outputId": "a0d8b11c-cc75-448b-b5de-2846b22f6145"
      },
      "outputs": [
        {
          "output_type": "stream",
          "name": "stdout",
          "text": [
            "Model: \"sequential_2\"\n",
            "_________________________________________________________________\n",
            " Layer (type)                Output Shape              Param #   \n",
            "=================================================================\n",
            " conv2d_2 (Conv2D)           (None, 26, 26, 64)        640       \n",
            "                                                                 \n",
            " activation_2 (Activation)   (None, 26, 26, 64)        0         \n",
            "                                                                 \n",
            " max_pooling2d_2 (MaxPooling  (None, 13, 13, 64)       0         \n",
            " 2D)                                                             \n",
            "                                                                 \n",
            " flatten (Flatten)           (None, 10816)             0         \n",
            "                                                                 \n",
            " dense (Dense)               (None, 64)                692288    \n",
            "                                                                 \n",
            " activation_3 (Activation)   (None, 64)                0         \n",
            "                                                                 \n",
            " dense_1 (Dense)             (None, 32)                2080      \n",
            "                                                                 \n",
            " activation_4 (Activation)   (None, 32)                0         \n",
            "                                                                 \n",
            " dense_2 (Dense)             (None, 10)                330       \n",
            "                                                                 \n",
            " activation_5 (Activation)   (None, 10)                0         \n",
            "                                                                 \n",
            "=================================================================\n",
            "Total params: 695,338\n",
            "Trainable params: 695,338\n",
            "Non-trainable params: 0\n",
            "_________________________________________________________________\n"
          ]
        }
      ],
      "source": [
        "model.summary()"
      ]
    },
    {
      "cell_type": "code",
      "execution_count": 18,
      "metadata": {
        "id": "AecZsT2PLt8J"
      },
      "outputs": [],
      "source": [
        "model.compile(loss=\"sparse_categorical_crossentropy\",optimizer=\"adam\",metrics=['accuracy'])\n"
      ]
    },
    {
      "cell_type": "code",
      "execution_count": 19,
      "metadata": {
        "colab": {
          "base_uri": "https://localhost:8080/"
        },
        "id": "q7DyMAo2L0mY",
        "outputId": "c4ddb259-4171-4c61-c802-e7d779f2169b"
      },
      "outputs": [
        {
          "output_type": "stream",
          "name": "stdout",
          "text": [
            "Epoch 1/5\n",
            "1313/1313 [==============================] - 24s 17ms/step - loss: 0.2791 - accuracy: 0.9174 - val_loss: 0.1302 - val_accuracy: 0.9612\n",
            "Epoch 2/5\n",
            "1313/1313 [==============================] - 22s 17ms/step - loss: 0.0887 - accuracy: 0.9730 - val_loss: 0.0931 - val_accuracy: 0.9707\n",
            "Epoch 3/5\n",
            "1313/1313 [==============================] - 22s 16ms/step - loss: 0.0620 - accuracy: 0.9805 - val_loss: 0.0976 - val_accuracy: 0.9721\n",
            "Epoch 4/5\n",
            "1313/1313 [==============================] - 21s 16ms/step - loss: 0.0440 - accuracy: 0.9862 - val_loss: 0.0775 - val_accuracy: 0.9781\n",
            "Epoch 5/5\n",
            "1313/1313 [==============================] - 21s 16ms/step - loss: 0.0355 - accuracy: 0.9889 - val_loss: 0.0778 - val_accuracy: 0.9779\n"
          ]
        },
        {
          "output_type": "execute_result",
          "data": {
            "text/plain": [
              "<keras.callbacks.History at 0x7f1f487844d0>"
            ]
          },
          "metadata": {},
          "execution_count": 19
        }
      ],
      "source": [
        "model.fit(x_trainr,trainsety,epochs=5,validation_split=0.3)\n"
      ]
    },
    {
      "cell_type": "code",
      "execution_count": 20,
      "metadata": {
        "colab": {
          "base_uri": "https://localhost:8080/"
        },
        "id": "srdPHA6BL_sU",
        "outputId": "331c29a1-9f25-468d-a89e-7ddf1a070006"
      },
      "outputs": [
        {
          "output_type": "stream",
          "name": "stdout",
          "text": [
            "[[6.0486227e-01 3.6882740e-01 9.6043944e-01 ... 1.0000000e+00\n",
            "  3.2763544e-01 9.8632920e-01]\n",
            " [5.8506864e-01 9.9985361e-01 1.0000000e+00 ... 9.4654691e-01\n",
            "  9.6330792e-02 1.3330579e-04]\n",
            " [4.7811896e-02 9.9999452e-01 1.8197894e-03 ... 7.8342617e-01\n",
            "  1.0170415e-01 4.7203398e-01]\n",
            " ...\n",
            " [2.6486814e-03 3.0462623e-02 4.2852074e-02 ... 9.2639869e-01\n",
            "  8.8447493e-01 8.8105726e-01]\n",
            " [8.2268119e-03 7.8719258e-03 2.9556108e-05 ... 1.6758204e-02\n",
            "  9.6520507e-01 3.3987999e-02]\n",
            " [8.4168673e-02 5.7262868e-01 2.6267749e-01 ... 5.9732795e-03\n",
            "  5.4304034e-02 4.2416751e-03]]\n"
          ]
        }
      ],
      "source": [
        "prediction=model.predict([x_testr])\n",
        "print(prediction)\n"
      ]
    },
    {
      "cell_type": "code",
      "source": [
        "print(np.argmax(prediction[200]))\n"
      ],
      "metadata": {
        "colab": {
          "base_uri": "https://localhost:8080/"
        },
        "id": "N-FwRe57NmwB",
        "outputId": "a982dc91-41cf-400e-87bc-4b4680187d9a"
      },
      "execution_count": 21,
      "outputs": [
        {
          "output_type": "stream",
          "name": "stdout",
          "text": [
            "3\n"
          ]
        }
      ]
    },
    {
      "cell_type": "code",
      "source": [
        "plt.imshow(x_test[200])\n"
      ],
      "metadata": {
        "colab": {
          "base_uri": "https://localhost:8080/",
          "height": 282
        },
        "id": "SdC2haBANuDT",
        "outputId": "eedca5ee-43d1-4dcd-e9a5-44766a07098b"
      },
      "execution_count": 22,
      "outputs": [
        {
          "output_type": "execute_result",
          "data": {
            "text/plain": [
              "<matplotlib.image.AxesImage at 0x7f1f486dc890>"
            ]
          },
          "metadata": {},
          "execution_count": 22
        },
        {
          "output_type": "display_data",
          "data": {
            "text/plain": [
              "<Figure size 432x288 with 1 Axes>"
            ],
            "image/png": "[encoded data removed]"
          },
          "metadata": {
            "needs_background": "light"
          }
        }
      ]
    },
    {
      "cell_type": "code",
      "source": [
        "plt.imshow(x_test[75])\n",
        "\n"
      ],
      "metadata": {
        "colab": {
          "base_uri": "https://localhost:8080/",
          "height": 282
        },
        "id": "N_avnB8eN1o8",
        "outputId": "da275470-fc4f-47d6-f28e-19c6cc949af3"
      },
      "execution_count": 23,
      "outputs": [
        {
          "output_type": "execute_result",
          "data": {
            "text/plain": [
              "<matplotlib.image.AxesImage at 0x7f1f48647f50>"
            ]
          },
          "metadata": {},
          "execution_count": 23
        },
        {
          "output_type": "display_data",
          "data": {
            "text/plain": [
              "<Figure size 432x288 with 1 Axes>"
            ],
            "image/png": "[encoded data removed]"
          },
          "metadata": {
            "needs_background": "light"
          }
        }
      ]
    },
    {
      "cell_type": "code",
      "source": [
        "print(np.argmax(prediction[75]))\n"
      ],
      "metadata": {
        "colab": {
          "base_uri": "https://localhost:8080/"
        },
        "id": "05hiT-YKN62I",
        "outputId": "5711871d-06b5-4bd6-e6b1-6a93baa4df9d"
      },
      "execution_count": 24,
      "outputs": [
        {
          "output_type": "stream",
          "name": "stdout",
          "text": [
            "7\n"
          ]
        }
      ]
    }
  ],
  "metadata": {
    "colab": {
      "collapsed_sections": [],
      "name": "Deep Neural Networks(Project).ipynb",
      "provenance": [],
      "mount_file_id": "1s1ZnCyF0lPMWjHxYRU8ZPqfHVpG0nJ9t",
      "authorship_tag": "ABX9TyNAIduVhvcf45ETkULe3qlz",
      "include_colab_link": true
    },
    "kernelspec": {
      "display_name": "Python 3",
      "name": "python3"
    },
    "language_info": {
      "name": "python"
    }
  },
  "nbformat": 4,
  "nbformat_minor": 0
}